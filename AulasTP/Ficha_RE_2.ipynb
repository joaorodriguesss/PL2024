{
  "cells": [
    {
      "cell_type": "markdown",
      "metadata": {
        "id": "oVaAea-wCM6H"
      },
      "source": [
        "# Ficha de Expressões Regulares 2\n",
        "\n",
        "Autora: Sofia Santos\n",
        "\n",
        "---\n",
        "\n",
        "Cartoon relevante\n",
        "\n",
        "<img src=\"https://drive.google.com/uc?id=1YMZ6r9adsBTs427XUaIooQ90T5yMRiTv\" width=500>"
      ]
    },
    {
      "cell_type": "markdown",
      "metadata": {
        "id": "gk5jnHXt9t4y"
      },
      "source": [
        "### Conceitos mais avançados de expressões regulares\n",
        "\n",
        "- `\\w` - corresponde a um caracter alfanumérico (a-z, A-Z, 0-9 ou _).\n",
        "- `\\W` - corresponde a um caracter **não** alfanumérico.\n",
        "- `\\s` - corresponde a um caracter de *whitespace* (' ', '\\t', ou '\\n', por exemplo).\n",
        "- `\\S` - corresponde a um caracter que não seja *whitespace*.\n",
        "- `\\d` - corresponde a um dígito.\n",
        "- `\\D` - corresponde a um caracter que não seja um dígito.\n",
        "- `\\btot\\w+` - corresponde a uma palavra **começada** por \"tot\" (o token `\\b` representa uma *word boundary*, ou seja, o limite entre um caracter alfanumérico e um não alfanumérico). Por exemplo, esta expressão regular captura a palavra \"totalidade\" mas não a palavra \"batota\". O token `\\b` também pode ser usado no fim de palavras.\n",
        "- `a(?=b)` - corresponde a um caracter `a` que tenha à sua frente um caracter `b`, mas não captura o caracter `b`. (*positive lookahead*)\n",
        "- `a(?!b)` - corresponde a um caracter `a` que **não** tenha à sua frente um caracter `b`, mas não captura o caracter seguinte. (*negative lookahead*)\n",
        "- `(?<=b)a` - corresponde a um caracter `a` que tenha atrás de si um caracter `b`, mas não captura o caracter `b`. (*positive lookbehind*)\n",
        "- `(?<!b)a` - corresponde a um caracter `a` que **não** tenha atrás de si um caracter `b`, mas não captura o caracter anterior. (*negative lookbehind*)\n"
      ]
    },
    {
      "cell_type": "markdown",
      "metadata": {
        "id": "lTaHmSRMMmvI"
      },
      "source": [
        "Podemos usar *grupos de captura* em expressões regulares para isolar segmentos da string capturada. Usamos parênteses para definir grupos de captura."
      ]
    },
    {
      "cell_type": "code",
      "execution_count": null,
      "metadata": {
        "id": "1Aig805EMion"
      },
      "outputs": [],
      "source": [
        "import re\n",
        "m = re.search(r'(2[0-3]|[0-1][0-9]):([0-5][0-9])', \"13:49\")\n",
        "\n",
        "print(m.groups()) # conjunto dos grupos de captura\n",
        "print(m.group(0)) # toda a string capturada\n",
        "print(m.group(1)) # o primeiro grupo de captura"
      ]
    },
    {
      "cell_type": "markdown",
      "metadata": {
        "id": "NOnJXgkkNToG"
      },
      "source": [
        "Na função `re.sub`, podemos usar a sintaxe `\\N`, em que `N` é um número positivo, para nos referirmos ao n-ésimo grupo de captura."
      ]
    },
    {
      "cell_type": "code",
      "execution_count": null,
      "metadata": {
        "id": "0LTYEkBGNgnz"
      },
      "outputs": [],
      "source": [
        "coords = \"(1,2) (5,8) (-2,3)\"\n",
        "\n",
        "print(re.sub(r\"\\((-?\\d+),(-?\\d+)\\)\", r\"(\\2,\\1)\", coords))"
      ]
    },
    {
      "cell_type": "markdown",
      "metadata": {
        "id": "wB4QFOQ4N65r"
      },
      "source": [
        "Ao colocar o prefixo `?:` num grupo, este deixa de ser um grupo de captura. Por exemplo, `(?:a|b|c)`. Isto é útil para funções como `re.findall`, em que, havendo pelo menos um grupo de captura na expressão regular, apenas a correspondência do grupo é devolvida."
      ]
    },
    {
      "cell_type": "code",
      "execution_count": null,
      "metadata": {
        "id": "9Pd_2RkXOQB4"
      },
      "outputs": [],
      "source": [
        "print(re.findall(r\"\\d(\\d)\\d\", \"123 456 789\"))\n",
        "print(re.findall(r\"\\d(?:\\d)\\d\", \"123 456 789\"))"
      ]
    },
    {
      "cell_type": "markdown",
      "metadata": {
        "id": "FJjj4K2o12MV"
      },
      "source": [
        "Por defeito, os operadores `*` e `+` são gananciosos (*greedy*). Podemos, através do operador `?`, torná-los preguiçosos (*lazy*). Segue-se um exemplo:"
      ]
    },
    {
      "cell_type": "code",
      "execution_count": null,
      "metadata": {
        "id": "AmI7zjv72Ibd"
      },
      "outputs": [],
      "source": [
        "import re\n",
        "\n",
        "pal = \"banana\"\n",
        "\n",
        "m_greedy = re.search(r'ba.*a', pal)\n",
        "m_lazy = re.search(r'ba.*?a', pal)\n",
        "\n",
        "print(m_greedy.group(0)) # banana\n",
        "print(m_lazy.group(0)) # bana"
      ]
    },
    {
      "cell_type": "markdown",
      "metadata": {
        "id": "0z3asvbtZijn"
      },
      "source": [
        "## Exercício 1 - Conversão de datas\n",
        "\n",
        "Define a função `iso_8601` que converte as datas presentes numa string no formato DD/MM/AAAA para o formato ISO 8601 - AAAA-MM-DD, usando expressões regulares e grupos de captura."
      ]
    },
    {
      "cell_type": "code",
      "execution_count": null,
      "metadata": {
        "id": "VZXeGvw7aLIG"
      },
      "outputs": [],
      "source": [
        "texto = \"\"\"A 03/01/2022, V foi de férias com a sua família.\n",
        "Ficaram hospedados num hotel e aproveitaram as férias para passear e descobrir novos locais.\n",
        "Mais tarde, no dia 12/01/2022, V voltou para casa e começou a trabalhar num novo projeto.\n",
        "Passou muitas horas no computador, mas finalmente terminou o projeto a 15/01/2022.\n",
        "\n",
        "Alguns meses depois, a 26/09/2023, V casou-se com Judy e no dia 30/09/2023 partiram na\n",
        "sua lua-de-mel para o local onde V tinha ido de férias no ano anterior.\"\"\"\n",
        "\n",
        "# ..."
      ]
    },
    {
      "cell_type": "markdown",
      "metadata": {
        "id": "WscyvBdMY8ic"
      },
      "source": [
        "## Exercício 2 - Validação de ficheiros\n",
        "\n",
        "Escreve um programa que lê uma lista de nomes de ficheiros e determina se cada nome é válido ou não. O nome de um ficheiro deve conter apenas caracteres alfanuméricos, hífens, underscores ou pontos, seguido de uma extensão (e.g., \".txt\", \".png\", etc.)."
      ]
    },
    {
      "cell_type": "code",
      "execution_count": null,
      "metadata": {
        "id": "uUAouM4MZkF6"
      },
      "outputs": [],
      "source": [
        "file_names = [\n",
        "  \"document.txt\", # válido\n",
        "  \"file name.docx\", # inválido\n",
        "  \"image_001.jpg\", # válido\n",
        "  \"script.sh.txt\", # válido\n",
        "  \"test_file.txt\", # válido\n",
        "  \"file_name.\", # inválido\n",
        "  \"my_resume.docx\", # válido\n",
        "  \".hidden-file.txt\", # válido\n",
        "  \"important-file.text file\", # inválido\n",
        "  \"file%name.jpg\" # inválido\n",
        "]\n",
        "\n",
        "# ..."
      ]
    },
    {
      "cell_type": "markdown",
      "metadata": {
        "id": "keqnY2BFZkvR"
      },
      "source": [
        "### Alínea 2.1\n",
        "\n",
        "Modifica o programa anterior para colocar os nomes de ficheiro válidos num dicionário, no qual as chaves deverão ser as extensões dos mesmos. Por outras palavras, agrupa os ficheiros por extensão."
      ]
    },
    {
      "cell_type": "code",
      "execution_count": null,
      "metadata": {
        "id": "zdJMjdJsZ6FZ"
      },
      "outputs": [],
      "source": []
    },
    {
      "cell_type": "markdown",
      "metadata": {
        "id": "a40c7yfabZOZ"
      },
      "source": [
        "## Exercício 3 - Conversão de nomes\n",
        "\n",
        "Escreve um filtro de texto que converte cada **nome completo** de uma pessoa encontrada num texto fonte, no formato `PrimeiroNome SegundoNome [...] UltimoNome` para o formato `UltimoNome, PrimeiroNome`. Por exemplo, \"Rui Vieira de Castro\" passa a \"Castro, Rui\". Atenção aos conectores \"de\", \"dos\", etc."
      ]
    },
    {
      "cell_type": "code",
      "execution_count": null,
      "metadata": {
        "id": "aYONUP3BcAdf"
      },
      "outputs": [],
      "source": [
        "texto = \"\"\"Este texto foi feito por Sofia Guilherme Rodrigues dos Santos, com\n",
        "base no texto original de Pedro Rafael Paiva Moura, com a ajuda\n",
        "do professor Pedro Rangel Henriques e do professor José João Antunes Guimarães\n",
        "Dias De Almeida.\n",
        "Apesar de partilharem o mesmo apelido, a Sofia não é da mesma família do famoso\n",
        "autor José Rodrigues dos Santos.\"\"\"\n",
        "\n",
        "# ..."
      ]
    },
    {
      "cell_type": "markdown",
      "metadata": {
        "id": "7mMTNkFUm7lV"
      },
      "source": [
        "## Exercício 4 - Códigos postais 2\n",
        "\n",
        "Define uma função `codigos_postais` que recebe uma lista de códigos postais e divide-os com base no hífen. Ao contrário do exercício da ficha anterior, esta função pode receber códigos postais inválidos. A função deve devolver uma lista de pares e apenas processar cada linha uma vez."
      ]
    },
    {
      "cell_type": "code",
      "execution_count": null,
      "metadata": {
        "id": "rvxXocYpnqlX"
      },
      "outputs": [],
      "source": [
        "lista = [\n",
        "    \"4700-000\", # válido\n",
        "    \"9876543\", # inválido\n",
        "    \"1234-567\", # válido\n",
        "    \"8x41-5a3\", # inválido\n",
        "    \"84234-12\", # inválido\n",
        "    \"4583--321\", # inválido\n",
        "    \"9481-025\" # válido\n",
        "]\n",
        "\n",
        "# ..."
      ]
    },
    {
      "cell_type": "markdown",
      "metadata": {
        "id": "m2rtSDSccn33"
      },
      "source": [
        "## Exercício 5 - Expansão de abreviaturas\n",
        "\n",
        "Escreve um filtro de texto que expanda as abreviaturas que encontrar no texto fonte no formato \"/abrev\"."
      ]
    },
    {
      "cell_type": "code",
      "execution_count": null,
      "metadata": {
        "id": "Hm60iNFV52oX"
      },
      "outputs": [],
      "source": [
        "abreviaturas = {\n",
        "    \"UM\": \"Universidade do Minho\",\n",
        "    \"LEI\": \"Licenciatura em Engenharia Informática\",\n",
        "    \"UC\": \"Unidade Curricular\",\n",
        "    \"PL\": \"Processamento de Linguagens\"\n",
        "}\n",
        "\n",
        "texto = \"A /abrev{UC} de /abrev{PL} é muito fixe! É uma /abrev{UC} que acrescenta muito ao curso de /abrev{LEI} da /abrev{UM}.\"\n",
        "\n",
        "# ..."
      ]
    },
    {
      "cell_type": "markdown",
      "metadata": {
        "id": "oEiMpi4FDkqm"
      },
      "source": [
        "## Exercício 6 - Matrículas\n",
        "\n",
        "Define uma função `matricula_valida` que recebe uma string de texto e determina se esta contém uma matrícula válida. Uma matrícula segue o formato AA-BB-CC, no qual dois dos três conjuntos devem ser compostos por números e o terceiro por letras maiúsculas (por exemplo, 01-AB-23), ou o novo formato no qual dois dos conjuntos são compostos por letras maiúsculas e o terceiro por números (por exemplo, 89-WX-YZ). Os conjuntos podem ser separados por um hífen ou um espaço.\n",
        "\n",
        "Extra: Garante que o mesmo separador é usado para separar os três conjuntos."
      ]
    },
    {
      "cell_type": "code",
      "execution_count": null,
      "metadata": {
        "id": "CPR0gi10E5Dj"
      },
      "outputs": [],
      "source": [
        "matriculas = [\n",
        "    \"AA-AA-AA\", # inválida\n",
        "    \"LR-RB-32\", # válida\n",
        "    \"1234LX\", # inválida\n",
        "    \"PL 22 23\", # válida\n",
        "    \"ZZ-99-ZZ\", # válida\n",
        "    \"54-tb-34\", # inválida\n",
        "    \"12 34 56\", # inválida\n",
        "    \"42-HA BQ\" # válida, mas inválida com o requisito extra\n",
        "]"
      ]
    },
    {
      "cell_type": "markdown",
      "metadata": {
        "id": "-_NVZEbp8xM-"
      },
      "source": [
        "## Exercício 7 - *Mad Libs*\n",
        "\n",
        "O jogo *Mad Libs*, bastante comum em países como os Estados Unidos, consiste em pegar num texto com espaços para algumas palavras e preencher esses espaços de acordo com o tipo de palavra que é pedida.\n",
        "\n",
        "Escreve um programa que lê um texto no formato *Mad Libs* e pede ao utilizador para fornecer palavras que completem corretamente o texto."
      ]
    },
    {
      "cell_type": "code",
      "execution_count": 11,
      "metadata": {
        "id": "VGX0mrL29Vgv"
      },
      "outputs": [
        {
          "name": "stdout",
          "output_type": "stream",
          "text": [
            "Num lindo dia de [ESTAÇÃO DO ANO], [NOME DE PESSOA] foi passear com o seu [EXPRESSÃO DE PARENTESCO MASCULINA].\n",
            "Quando chegaram à [NOME DE LOCAL FEMININO], encontraram um [OBJETO MASCULINO] muito [ADJETIVO MASCULINO].\n",
            "Ficaram muito confusos, pois não conseguiam identificar a função daquilo.\n",
            "Seria para [VERBO INFINITIVO]? Tentaram perguntar a [NOME DE PESSOA FAMOSA], que também não sabia.\n",
            "Desanimados, pegaram no objeto e deixaram-no no [NOME DE LOCAL MASCULINO] mais próximo.\n",
            "Talvez os [NOME PLURAL MASCULINO] de lá conseguissem encontrar alguma utilidade para aquilo.\n",
            "{}\n"
          ]
        }
      ],
      "source": [
        "texto = \"\"\"Num lindo dia de [ESTAÇÃO DO ANO], [NOME DE PESSOA] foi passear com o seu [EXPRESSÃO DE PARENTESCO MASCULINA].\n",
        "Quando chegaram à [NOME DE LOCAL FEMININO], encontraram um [OBJETO MASCULINO] muito [ADJETIVO MASCULINO].\n",
        "Ficaram muito confusos, pois não conseguiam identificar a função daquilo.\n",
        "Seria para [VERBO INFINITIVO]? Tentaram perguntar a [NOME DE PESSOA FAMOSA], que também não sabia.\n",
        "Desanimados, pegaram no objeto e deixaram-no no [NOME DE LOCAL MASCULINO] mais próximo.\n",
        "Talvez os [NOME PLURAL MASCULINO] de lá conseguissem encontrar alguma utilidade para aquilo.\"\"\"\n",
        "\n",
        "pals = {}\n",
        "\n",
        "def palavraMadLib(g):\n",
        "    w = g[1]\n",
        "    final = input(f\"Indique uma palavra para substituir: {w}\")\n",
        "    pals[w] = final\n",
        "    return final\n",
        "\n",
        "print(re.sub(r'\\b\\(.*?\\b', palavraMadLib, texto))\n",
        "print(pals)\n"
      ]
    },
    {
      "cell_type": "markdown",
      "metadata": {
        "id": "z8HMWeua6Zc2"
      },
      "source": [
        "## Exercício 8 - Remoção de repetidos\n",
        "\n",
        "Escreve um filtro de texto que sempre que encontrar no texto fonte uma palavra repetida elimina as repetições, ou seja, substitui a lista de palavras por 1 só palavra."
      ]
    },
    {
      "cell_type": "code",
      "execution_count": 9,
      "metadata": {
        "id": "YZxTwl0C6v2b"
      },
      "outputs": [
        {
          "name": "stdout",
          "output_type": "stream",
          "text": [
            "era uma vez = galinha\n"
          ]
        }
      ],
      "source": [
        "import re\n",
        "\n",
        "texto = \"era uma vez uma galinha\"\n",
        "# texto2 = re.sub(r'\\b(\\w+)\\s+\\1\\b', r'\\1', texto, flags=re.IGNORECASE)\n",
        "# print(texto2)\n",
        "\n",
        "pal = set()\n",
        "\n",
        "def lidarComPalavra(w):\n",
        "\n",
        "    ws = w.group(0)\n",
        "\n",
        "    if ws in pal:\n",
        "        return '='\n",
        "    else:\n",
        "        pal.add(ws)\n",
        "        return ws\n",
        "\n",
        "texto2 = re.sub(r'\\b\\w+\\b', lidarComPalavra, texto)\n",
        "print(texto2)\n"
      ]
    }
  ],
  "metadata": {
    "colab": {
      "provenance": []
    },
    "kernelspec": {
      "display_name": "Python 3",
      "name": "python3"
    },
    "language_info": {
      "codemirror_mode": {
        "name": "ipython",
        "version": 3
      },
      "file_extension": ".py",
      "mimetype": "text/x-python",
      "name": "python",
      "nbconvert_exporter": "python",
      "pygments_lexer": "ipython3",
      "version": "3.12.2"
    }
  },
  "nbformat": 4,
  "nbformat_minor": 0
}
